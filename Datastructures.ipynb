{
  "nbformat": 4,
  "nbformat_minor": 0,
  "metadata": {
    "colab": {
      "provenance": [],
      "authorship_tag": "ABX9TyNrR5/0JPfUSIIjL8sOH5pp",
      "include_colab_link": true
    },
    "kernelspec": {
      "name": "python3",
      "display_name": "Python 3"
    },
    "language_info": {
      "name": "python"
    }
  },
  "cells": [
    {
      "cell_type": "markdown",
      "metadata": {
        "id": "view-in-github",
        "colab_type": "text"
      },
      "source": [
        "<a href=\"https://colab.research.google.com/github/BM-Rohith/DataStructures/blob/main/Datastructures.ipynb\" target=\"_parent\"><img src=\"https://colab.research.google.com/assets/colab-badge.svg\" alt=\"Open In Colab\"/></a>"
      ]
    },
    {
      "cell_type": "markdown",
      "source": [
        "**DATASTRUCTURES**\n",
        "\n",
        "1)List"
      ],
      "metadata": {
        "id": "C3ZAoaFRIQ7N"
      }
    },
    {
      "cell_type": "code",
      "source": [
        "#declaration\n",
        "a = [4,3,2,1]\n",
        "print('1 :', a)\n",
        "a = []\n",
        "print('2 :', a)\n",
        "a = [5]\n",
        "print('3 :', a)\n",
        "a = list([1,2,3,4])\n",
        "#ordered\n",
        "print('4 :', a)  \n",
        "b = [4,3,2,1]\n",
        "print('5 :',a == b)\n",
        "print('6: ',a[0])\n",
        "print('7: ',a[-1])\n",
        "a[1] = 'yes'\n",
        "print('8: ', a)\n",
        "a = [1,2,3, [4,5,6]]\n",
        "print('9: ', a)"
      ],
      "metadata": {
        "colab": {
          "base_uri": "https://localhost:8080/"
        },
        "id": "9ZJKsrNJn2JP",
        "outputId": "b81dc4f6-3b8b-4723-af6c-65c882fcc5d2"
      },
      "execution_count": null,
      "outputs": [
        {
          "output_type": "stream",
          "name": "stdout",
          "text": [
            "1 : [4, 3, 2, 1]\n",
            "2 : []\n",
            "3 : [5]\n",
            "4 : [1, 2, 3, 4]\n",
            "5 : False\n",
            "6:  1\n",
            "7:  4\n",
            "8:  [1, 'yes', 3, 4]\n",
            "9:  [1, 2, 3, [4, 5, 6]]\n"
          ]
        }
      ]
    },
    {
      "cell_type": "markdown",
      "source": [
        "2)Tupples"
      ],
      "metadata": {
        "id": "zRaWYYUKsP73"
      }
    },
    {
      "cell_type": "code",
      "source": [
        "a = (3,2,1)\n",
        "print('1: ',a)\n",
        "a = 1,2,3,4\n",
        "print('2: ',a) \n",
        "a = tuple([2,3,4,5])\n",
        "print('3: ',a)\n",
        "# a[0]='hi'\n",
        "# print('4: ',a)\n",
        "a = (2)\n",
        "print('5: ',a)\n",
        "a = (2,)\n",
        "print('6: ',a)\n",
        "print('7: ',a[0])\n",
        "print('8: ',a[-1])\n",
        "a = (1,2,3,(1,2,3))\n",
        "print('9: ',a)"
      ],
      "metadata": {
        "colab": {
          "base_uri": "https://localhost:8080/"
        },
        "id": "DL2_SXhLowAS",
        "outputId": "cb6e5413-d5ab-4171-a418-16b9a105d244"
      },
      "execution_count": null,
      "outputs": [
        {
          "output_type": "stream",
          "name": "stdout",
          "text": [
            "1:  (3, 2, 1)\n",
            "2:  (1, 2, 3, 4)\n",
            "3:  (2, 3, 4, 5)\n",
            "5:  2\n",
            "6:  (2,)\n",
            "7:  2\n",
            "8:  2\n",
            "9:  (1, 2, 3, (1, 2, 3))\n"
          ]
        }
      ]
    },
    {
      "cell_type": "markdown",
      "source": [
        "3) Dictionary"
      ],
      "metadata": {
        "id": "TcNvnhNMtqHa"
      }
    },
    {
      "cell_type": "code",
      "source": [
        "a = {'a':1,'b':2,'c':3, 'a':2}\n",
        "print('1: ',a)\n",
        "a['a'] = \"HI\"\n",
        "print('2: ',a)\n",
        "# a = {[1,2,3]:1,'b':2,'c':3, 'a':2}\n",
        "# print('3: ',a)\n",
        "a = {(1,2,3):[1,2,3,4],'bit':2,'c':3, 'a':a}\n",
        "print('4: ',a)"
      ],
      "metadata": {
        "colab": {
          "base_uri": "https://localhost:8080/"
        },
        "id": "cVE9mUUwtufw",
        "outputId": "a48612ed-0429-4f58-eb2d-4995c0405db3"
      },
      "execution_count": null,
      "outputs": [
        {
          "output_type": "stream",
          "name": "stdout",
          "text": [
            "1:  {'a': 2, 'b': 2, 'c': 3}\n",
            "2:  {'a': 'HI', 'b': 2, 'c': 3}\n",
            "4:  {(1, 2, 3): [1, 2, 3, 4], 'bit': 2, 'c': 3, 'a': {'a': 'HI', 'b': 2, 'c': 3}}\n"
          ]
        }
      ]
    },
    {
      "cell_type": "markdown",
      "source": [
        "4)Set"
      ],
      "metadata": {
        "id": "nE1wolRaupxv"
      }
    },
    {
      "cell_type": "code",
      "source": [
        "a = {3,2,3,3}\n",
        "print('1: ',a)\n",
        "a = set(\"APPLE\")\n",
        "print('2: ',a)\n",
        "a = set([1,5,3,2,3,4,2])\n",
        "print('3: ',a)\n",
        "a = {(1,2,3),(2,3,4)}\n",
        "print('4: ',a)\n",
        "# a = {[1,2,3],[4,5,6]}\n",
        "# print('5: ',a)\n",
        "a = {(1,2,3),(3,2,1),(1,2,3,4),(1,2,3)}\n",
        "print('6: ',a)"
      ],
      "metadata": {
        "colab": {
          "base_uri": "https://localhost:8080/"
        },
        "id": "Ibq21ua_usQt",
        "outputId": "df4fb455-6fe8-4252-d2cb-ab8489bd036e"
      },
      "execution_count": null,
      "outputs": [
        {
          "output_type": "stream",
          "name": "stdout",
          "text": [
            "1:  {2, 3}\n",
            "2:  {'E', 'L', 'P', 'A'}\n",
            "3:  {1, 2, 3, 4, 5}\n",
            "4:  {(1, 2, 3), (2, 3, 4)}\n",
            "6:  {(1, 2, 3, 4), (3, 2, 1), (1, 2, 3)}\n"
          ]
        }
      ]
    }
  ]
}